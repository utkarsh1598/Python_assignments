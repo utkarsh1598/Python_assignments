{
 "cells": [
  {
   "cell_type": "markdown",
   "id": "497033d4-6901-493a-ae6a-44e4b007a9d2",
   "metadata": {},
   "source": [
    "1. Calculate the sum, difference, product and quotient of two numbers."
   ]
  },
  {
   "cell_type": "code",
   "execution_count": 3,
   "id": "30d53779-eee0-4cdb-9399-fe4c56238769",
   "metadata": {},
   "outputs": [],
   "source": [
    "#let us assume two variables with following values\n",
    "a=5\n",
    "b=8"
   ]
  },
  {
   "cell_type": "code",
   "execution_count": 4,
   "id": "3f8f7966-bbb2-4f24-b554-5394349cbd8f",
   "metadata": {},
   "outputs": [
    {
     "data": {
      "text/plain": [
       "13"
      ]
     },
     "execution_count": 4,
     "metadata": {},
     "output_type": "execute_result"
    }
   ],
   "source": [
    "#Addition on variable a and b \n",
    "a+b"
   ]
  },
  {
   "cell_type": "code",
   "execution_count": 7,
   "id": "cf5f1940-9b10-41b5-920b-73bf641979f3",
   "metadata": {},
   "outputs": [],
   "source": [
    "#hence sum of two numbers can be found in python"
   ]
  },
  {
   "cell_type": "code",
   "execution_count": 6,
   "id": "d26b52a3-9467-4398-90d4-58d3cc7e54be",
   "metadata": {},
   "outputs": [
    {
     "data": {
      "text/plain": [
       "3"
      ]
     },
     "execution_count": 6,
     "metadata": {},
     "output_type": "execute_result"
    }
   ],
   "source": [
    "#Subtraction on variable b and a\n",
    "b-a"
   ]
  },
  {
   "cell_type": "code",
   "execution_count": 8,
   "id": "10c6a29a-d4ef-47e7-9104-61cda5b7d647",
   "metadata": {},
   "outputs": [],
   "source": [
    "#hence difference of two numbers can be found in python"
   ]
  },
  {
   "cell_type": "code",
   "execution_count": 9,
   "id": "1923d086-2c67-469c-82e4-d5e87ded27a9",
   "metadata": {},
   "outputs": [
    {
     "data": {
      "text/plain": [
       "40"
      ]
     },
     "execution_count": 9,
     "metadata": {},
     "output_type": "execute_result"
    }
   ],
   "source": [
    "#Multiplication of variable a and b\n",
    "a*b"
   ]
  },
  {
   "cell_type": "code",
   "execution_count": 10,
   "id": "acd0b639-727b-4a42-9231-1e6f95da2738",
   "metadata": {},
   "outputs": [],
   "source": [
    "#hence product of two numbers can be found in python"
   ]
  },
  {
   "cell_type": "code",
   "execution_count": 11,
   "id": "03b2a277-c94b-4951-8f66-03d8044ce5db",
   "metadata": {},
   "outputs": [
    {
     "data": {
      "text/plain": [
       "1.6"
      ]
     },
     "execution_count": 11,
     "metadata": {},
     "output_type": "execute_result"
    }
   ],
   "source": [
    "#Division between two varible a and b \n",
    "b/a"
   ]
  },
  {
   "cell_type": "code",
   "execution_count": 12,
   "id": "289be9ef-150e-4e24-8f99-97154ed11075",
   "metadata": {},
   "outputs": [],
   "source": [
    "#hence quotient of two numbers can be found in python"
   ]
  },
  {
   "cell_type": "markdown",
   "id": "ec1a8b7a-b82a-4654-b600-5b6dbdb680c1",
   "metadata": {},
   "source": [
    "2. Assignment Operations on a Variable"
   ]
  },
  {
   "cell_type": "code",
   "execution_count": 13,
   "id": "4fcb4a66-5852-4c7d-8a36-35cded109fb0",
   "metadata": {},
   "outputs": [],
   "source": [
    "#let us assume a variable with following value\n",
    "v=7"
   ]
  },
  {
   "cell_type": "code",
   "execution_count": 14,
   "id": "7962bc4f-a373-4a91-9b7d-89e5f06e1273",
   "metadata": {},
   "outputs": [],
   "source": [
    "#let us assign variable v a new value\n",
    "v=v+5"
   ]
  },
  {
   "cell_type": "code",
   "execution_count": 15,
   "id": "651c8c5c-eb6a-41c3-9049-12e4a26aa299",
   "metadata": {},
   "outputs": [
    {
     "name": "stdout",
     "output_type": "stream",
     "text": [
      "12\n"
     ]
    }
   ],
   "source": [
    "print(v)"
   ]
  },
  {
   "cell_type": "code",
   "execution_count": 16,
   "id": "fc29c469-c42a-4598-8b21-38534240fe20",
   "metadata": {},
   "outputs": [],
   "source": [
    "#let us assign again a new different value to variable v\n",
    "v=v*6"
   ]
  },
  {
   "cell_type": "code",
   "execution_count": 17,
   "id": "a99f73a1-d007-4d67-8d48-401129f32923",
   "metadata": {},
   "outputs": [
    {
     "name": "stdout",
     "output_type": "stream",
     "text": [
      "72\n"
     ]
    }
   ],
   "source": [
    "print(v)"
   ]
  },
  {
   "cell_type": "code",
   "execution_count": 18,
   "id": "304709c6-be5f-44a5-a2ec-3cb681e54128",
   "metadata": {},
   "outputs": [],
   "source": [
    "#let us assign a different value to variable v\n",
    "v=v/12"
   ]
  },
  {
   "cell_type": "code",
   "execution_count": 19,
   "id": "4786e447-29a4-4325-acd9-8bba0c4ff0ef",
   "metadata": {},
   "outputs": [
    {
     "name": "stdout",
     "output_type": "stream",
     "text": [
      "6.0\n"
     ]
    }
   ],
   "source": [
    "print(v)"
   ]
  },
  {
   "cell_type": "code",
   "execution_count": 20,
   "id": "530cea96-3a81-4cb6-93a4-85f81d17c985",
   "metadata": {},
   "outputs": [],
   "source": [
    "#let us assign a string value to variable v\n",
    "v='pwskills'"
   ]
  },
  {
   "cell_type": "code",
   "execution_count": 21,
   "id": "c959f894-357b-4f2a-a7e7-01de25e2da11",
   "metadata": {},
   "outputs": [
    {
     "name": "stdout",
     "output_type": "stream",
     "text": [
      "pwskills\n"
     ]
    }
   ],
   "source": [
    "print(v)"
   ]
  },
  {
   "cell_type": "code",
   "execution_count": 22,
   "id": "fc4b9018-485d-45b4-8bb7-99a3bb123cc7",
   "metadata": {},
   "outputs": [],
   "source": [
    "#let us assign a boolean value to vairable v\n",
    "v=True"
   ]
  },
  {
   "cell_type": "code",
   "execution_count": 23,
   "id": "75733d83-7a70-4be8-9ce8-0e145596bbf3",
   "metadata": {},
   "outputs": [
    {
     "name": "stdout",
     "output_type": "stream",
     "text": [
      "True\n"
     ]
    }
   ],
   "source": [
    "print(v)"
   ]
  },
  {
   "cell_type": "code",
   "execution_count": 24,
   "id": "d2e12df8-c5b4-4e31-8769-096ee6f69952",
   "metadata": {},
   "outputs": [
    {
     "data": {
      "text/plain": [
       "bool"
      ]
     },
     "execution_count": 24,
     "metadata": {},
     "output_type": "execute_result"
    }
   ],
   "source": [
    "type(v)"
   ]
  },
  {
   "cell_type": "code",
   "execution_count": 25,
   "id": "7c29196d-acc3-4481-bdb5-0ad702b56824",
   "metadata": {},
   "outputs": [],
   "source": [
    "#hence we can assign a variable different types of values by assignment operator"
   ]
  },
  {
   "cell_type": "markdown",
   "id": "b6a36340-e06c-4c0f-a323-c59ab7749e51",
   "metadata": {},
   "source": [
    "3. Comparing two numbers"
   ]
  },
  {
   "cell_type": "code",
   "execution_count": 26,
   "id": "6e3a767d-4ea4-4491-b0fe-8b9a820f4670",
   "metadata": {},
   "outputs": [],
   "source": [
    "#let us assume two variables with following values\n",
    "g=6\n",
    "i=15"
   ]
  },
  {
   "cell_type": "code",
   "execution_count": 27,
   "id": "0074e806-aa1e-4077-8388-2c62e9bef9ff",
   "metadata": {},
   "outputs": [
    {
     "data": {
      "text/plain": [
       "True"
      ]
     },
     "execution_count": 27,
     "metadata": {},
     "output_type": "execute_result"
    }
   ],
   "source": [
    "#let us perform comparison operation on variable g and i\n",
    "g<i"
   ]
  },
  {
   "cell_type": "code",
   "execution_count": 28,
   "id": "dfd3d67b-8502-4950-b738-1df48f8ed243",
   "metadata": {},
   "outputs": [
    {
     "data": {
      "text/plain": [
       "False"
      ]
     },
     "execution_count": 28,
     "metadata": {},
     "output_type": "execute_result"
    }
   ],
   "source": [
    "#let us perform another comparison on variable g and i\n",
    "g>i"
   ]
  },
  {
   "cell_type": "code",
   "execution_count": 29,
   "id": "8bcb637e-c25f-4c4f-8433-01552b795d53",
   "metadata": {},
   "outputs": [],
   "source": [
    "#So by using comparison value we can find that the comparison between two numbers in boolean value"
   ]
  },
  {
   "cell_type": "markdown",
   "id": "21206704-c8e2-426f-bca8-17a2e9851754",
   "metadata": {},
   "source": [
    "4. Check conditions by logical operators"
   ]
  },
  {
   "cell_type": "code",
   "execution_count": 33,
   "id": "dfdf1fd5-fc27-4a7b-8b38-e27ad4eaeb1e",
   "metadata": {},
   "outputs": [
    {
     "data": {
      "text/plain": [
       "False"
      ]
     },
     "execution_count": 33,
     "metadata": {},
     "output_type": "execute_result"
    }
   ],
   "source": [
    "#let us assume two following variables and perform And operation\n",
    "True and False"
   ]
  },
  {
   "cell_type": "code",
   "execution_count": 34,
   "id": "2b9a453b-39c8-4102-98c6-732716f416d8",
   "metadata": {},
   "outputs": [
    {
     "data": {
      "text/plain": [
       "False"
      ]
     },
     "execution_count": 34,
     "metadata": {},
     "output_type": "execute_result"
    }
   ],
   "source": [
    "False and False"
   ]
  },
  {
   "cell_type": "code",
   "execution_count": 35,
   "id": "01160df7-bd53-4c44-a7f1-39828901dbda",
   "metadata": {},
   "outputs": [
    {
     "data": {
      "text/plain": [
       "False"
      ]
     },
     "execution_count": 35,
     "metadata": {},
     "output_type": "execute_result"
    }
   ],
   "source": [
    "False and True"
   ]
  },
  {
   "cell_type": "code",
   "execution_count": 36,
   "id": "74043e88-ef7c-46ed-a306-970c01cfa7a8",
   "metadata": {},
   "outputs": [
    {
     "data": {
      "text/plain": [
       "True"
      ]
     },
     "execution_count": 36,
     "metadata": {},
     "output_type": "execute_result"
    }
   ],
   "source": [
    "True and True"
   ]
  },
  {
   "cell_type": "code",
   "execution_count": 37,
   "id": "b9cd58df-9d1b-479c-9e91-dff669372f0f",
   "metadata": {},
   "outputs": [],
   "source": [
    "#let us perform OR operation on variables"
   ]
  },
  {
   "cell_type": "code",
   "execution_count": 38,
   "id": "e47479a1-cf9c-41f3-8a97-6c2c56e1bfd3",
   "metadata": {},
   "outputs": [
    {
     "data": {
      "text/plain": [
       "True"
      ]
     },
     "execution_count": 38,
     "metadata": {},
     "output_type": "execute_result"
    }
   ],
   "source": [
    "True or False"
   ]
  },
  {
   "cell_type": "code",
   "execution_count": 39,
   "id": "a0e02f8d-b9ba-4193-a1e2-f7109618be2c",
   "metadata": {},
   "outputs": [
    {
     "data": {
      "text/plain": [
       "True"
      ]
     },
     "execution_count": 39,
     "metadata": {},
     "output_type": "execute_result"
    }
   ],
   "source": [
    "False or True"
   ]
  },
  {
   "cell_type": "code",
   "execution_count": 40,
   "id": "0bc368a8-dfd9-47ad-a4e2-03cc6e1d5d18",
   "metadata": {},
   "outputs": [
    {
     "data": {
      "text/plain": [
       "False"
      ]
     },
     "execution_count": 40,
     "metadata": {},
     "output_type": "execute_result"
    }
   ],
   "source": [
    "False or False"
   ]
  },
  {
   "cell_type": "code",
   "execution_count": 41,
   "id": "05c9dfc2-844d-47bc-be5f-96b154579a9f",
   "metadata": {},
   "outputs": [
    {
     "data": {
      "text/plain": [
       "True"
      ]
     },
     "execution_count": 41,
     "metadata": {},
     "output_type": "execute_result"
    }
   ],
   "source": [
    "True or True"
   ]
  },
  {
   "cell_type": "code",
   "execution_count": 42,
   "id": "e6dcb31a-7635-4ca6-9fea-d7909f28812b",
   "metadata": {},
   "outputs": [],
   "source": [
    "#let us perform NOT operation on variables"
   ]
  },
  {
   "cell_type": "code",
   "execution_count": 43,
   "id": "12808355-43f4-4747-9bf5-d066e5ca1245",
   "metadata": {},
   "outputs": [
    {
     "data": {
      "text/plain": [
       "False"
      ]
     },
     "execution_count": 43,
     "metadata": {},
     "output_type": "execute_result"
    }
   ],
   "source": [
    "not True"
   ]
  },
  {
   "cell_type": "code",
   "execution_count": 44,
   "id": "00f442d2-50b1-480c-ae80-9736324c1e2b",
   "metadata": {},
   "outputs": [
    {
     "data": {
      "text/plain": [
       "True"
      ]
     },
     "execution_count": 44,
     "metadata": {},
     "output_type": "execute_result"
    }
   ],
   "source": [
    "not False"
   ]
  },
  {
   "cell_type": "code",
   "execution_count": 45,
   "id": "df5dd094-8e35-45b7-abc3-77a8573970f1",
   "metadata": {},
   "outputs": [],
   "source": [
    "#hence we can perform logical operations in python on boolean variables"
   ]
  },
  {
   "cell_type": "markdown",
   "id": "e43cf3a7-b9f4-45a4-93c5-f85313f7fd16",
   "metadata": {},
   "source": [
    "5. Checking the identity of variables"
   ]
  },
  {
   "cell_type": "code",
   "execution_count": 46,
   "id": "e444b15e-aecc-4452-b7bf-47100e20238f",
   "metadata": {},
   "outputs": [],
   "source": [
    "#let us assume two variables with following values\n",
    "s=3\n",
    "t=2"
   ]
  },
  {
   "cell_type": "code",
   "execution_count": 48,
   "id": "4eb8a1c7-d1a2-405f-b4e9-a83cdad4f15d",
   "metadata": {},
   "outputs": [
    {
     "data": {
      "text/plain": [
       "False"
      ]
     },
     "execution_count": 48,
     "metadata": {},
     "output_type": "execute_result"
    }
   ],
   "source": [
    "s is t"
   ]
  },
  {
   "cell_type": "code",
   "execution_count": 49,
   "id": "4f54086a-f9cb-4c6e-8a54-ebc2818deeff",
   "metadata": {},
   "outputs": [],
   "source": [
    "#hence we can say that s is not equal to t by performing identity operators"
   ]
  },
  {
   "cell_type": "code",
   "execution_count": 50,
   "id": "a18fdaba-35fa-45bc-b74e-428aa468aafc",
   "metadata": {},
   "outputs": [],
   "source": [
    "#let us again assume two variables with following values \n",
    "y='data sceince'\n",
    "z=y"
   ]
  },
  {
   "cell_type": "code",
   "execution_count": 51,
   "id": "797da3d5-9e68-4e22-bb6c-6051b33b651f",
   "metadata": {},
   "outputs": [
    {
     "data": {
      "text/plain": [
       "True"
      ]
     },
     "execution_count": 51,
     "metadata": {},
     "output_type": "execute_result"
    }
   ],
   "source": [
    "#let us perform identity operation on above variables\n",
    "z is y"
   ]
  },
  {
   "cell_type": "code",
   "execution_count": 52,
   "id": "b924a1d4-da12-4afe-aa53-4c1dc8abe12a",
   "metadata": {},
   "outputs": [],
   "source": [
    "#hence by performing identity operator we can check identity of a variable"
   ]
  },
  {
   "cell_type": "markdown",
   "id": "c144bb9e-ef27-4609-ad20-8c0f70f193bb",
   "metadata": {},
   "source": [
    "6. Bitwise operations on two integers"
   ]
  },
  {
   "cell_type": "code",
   "execution_count": 54,
   "id": "5a068563-9605-4eaa-bac5-d4b989c80ba4",
   "metadata": {},
   "outputs": [
    {
     "data": {
      "text/plain": [
       "5"
      ]
     },
     "execution_count": 54,
     "metadata": {},
     "output_type": "execute_result"
    }
   ],
   "source": [
    "#let us find binary form of following integer\n",
    "5\n"
   ]
  },
  {
   "cell_type": "code",
   "execution_count": 56,
   "id": "c1cbf5d8-f014-4b63-9c3f-2294f98f8bbb",
   "metadata": {},
   "outputs": [
    {
     "data": {
      "text/plain": [
       "'0b101'"
      ]
     },
     "execution_count": 56,
     "metadata": {},
     "output_type": "execute_result"
    }
   ],
   "source": [
    "#perform bitwise operation on integer 5\n",
    "bin(5)"
   ]
  },
  {
   "cell_type": "code",
   "execution_count": 57,
   "id": "de4857a1-e02e-4c2e-8d5f-6a365f7ea839",
   "metadata": {},
   "outputs": [
    {
     "data": {
      "text/plain": [
       "82"
      ]
     },
     "execution_count": 57,
     "metadata": {},
     "output_type": "execute_result"
    }
   ],
   "source": [
    "#let us find binary form of following integer\n",
    "82"
   ]
  },
  {
   "cell_type": "code",
   "execution_count": 58,
   "id": "701b6c03-39bb-49ab-9e9a-5e1b8f073371",
   "metadata": {},
   "outputs": [
    {
     "data": {
      "text/plain": [
       "'0b1010010'"
      ]
     },
     "execution_count": 58,
     "metadata": {},
     "output_type": "execute_result"
    }
   ],
   "source": [
    "#perform bitwise operation on integer 82\n",
    "bin(82)"
   ]
  },
  {
   "cell_type": "code",
   "execution_count": 59,
   "id": "891a0c7f-e82f-407f-a1db-81c7cf28a29b",
   "metadata": {},
   "outputs": [],
   "source": [
    "#hence by performing bitwise operation we can find binary form of any integer"
   ]
  },
  {
   "cell_type": "markdown",
   "id": "52d1f6f8-9887-4573-a42b-26b8e6df8c3e",
   "metadata": {},
   "source": [
    "7. Changing the sign of a number using unary operators"
   ]
  },
  {
   "cell_type": "code",
   "execution_count": 60,
   "id": "f3b2d472-4a56-429a-8b11-cbc4d83d2d7b",
   "metadata": {},
   "outputs": [],
   "source": [
    "#let us use a variable with following value\n",
    "u=56"
   ]
  },
  {
   "cell_type": "code",
   "execution_count": 61,
   "id": "8aecc6aa-9d6f-4673-9cfc-4a61232bf161",
   "metadata": {},
   "outputs": [],
   "source": [
    "#let us perform unary operation on claim"
   ]
  },
  {
   "cell_type": "code",
   "execution_count": 63,
   "id": "afdf1085-fa6a-4bde-9a1e-e305e769731c",
   "metadata": {},
   "outputs": [
    {
     "data": {
      "text/plain": [
       "-56"
      ]
     },
     "execution_count": 63,
     "metadata": {},
     "output_type": "execute_result"
    }
   ],
   "source": [
    "-u"
   ]
  },
  {
   "cell_type": "code",
   "execution_count": 64,
   "id": "c0e3c3c0-96eb-406c-9b65-56e64bb0658c",
   "metadata": {},
   "outputs": [],
   "source": [
    "#again perform same operation"
   ]
  },
  {
   "cell_type": "code",
   "execution_count": 65,
   "id": "0f807777-e999-4623-965d-83971fe47160",
   "metadata": {},
   "outputs": [
    {
     "data": {
      "text/plain": [
       "56"
      ]
     },
     "execution_count": 65,
     "metadata": {},
     "output_type": "execute_result"
    }
   ],
   "source": [
    "-(-u)"
   ]
  },
  {
   "cell_type": "code",
   "execution_count": 66,
   "id": "3d7e9c68-3509-4ae7-8d5d-0afebf6583a6",
   "metadata": {},
   "outputs": [],
   "source": [
    "#hence by using unary operation we can change sign of a number"
   ]
  },
  {
   "cell_type": "markdown",
   "id": "7f6ad31b-51cd-4443-8565-813927473cc2",
   "metadata": {},
   "source": [
    "8. Use of Ternary Operator to assign values based on condition"
   ]
  },
  {
   "cell_type": "code",
   "execution_count": 1,
   "id": "c53d5b3b-c740-43cf-b93e-e6be5d52b9e5",
   "metadata": {},
   "outputs": [],
   "source": [
    "#Following is the grading system for students"
   ]
  },
  {
   "cell_type": "code",
   "execution_count": 5,
   "id": "7c8942ae-e5b3-43e6-b7a3-f6f8967af534",
   "metadata": {},
   "outputs": [
    {
     "name": "stdin",
     "output_type": "stream",
     "text": [
      "enter your marks 75\n"
     ]
    },
    {
     "name": "stdout",
     "output_type": "stream",
     "text": [
      "student will be pass with B grade\n"
     ]
    }
   ],
   "source": [
    "marks=int(input(\"enter your marks\"))\n",
    "if marks<=100 and marks>80 :\n",
    "    print(\"student will be pass with A grade\")\n",
    "elif marks<=80 and marks>60 :\n",
    "    print(\"student will be pass with B grade\")\n",
    "elif marks<=60 and marks>40 :\n",
    "    print(\"student will be pass with c grade\")\n",
    "else :\n",
    "    print(\"student will be fail\")"
   ]
  },
  {
   "cell_type": "code",
   "execution_count": 6,
   "id": "6f356468-66cc-468a-9fa0-1a55d5705a70",
   "metadata": {},
   "outputs": [],
   "source": [
    "#hence we can assign value by condition or ternary operator"
   ]
  },
  {
   "cell_type": "code",
   "execution_count": null,
   "id": "cd412588-db13-4001-9c6d-a9cd12b911f0",
   "metadata": {},
   "outputs": [],
   "source": []
  }
 ],
 "metadata": {
  "kernelspec": {
   "display_name": "Python 3 (ipykernel)",
   "language": "python",
   "name": "python3"
  },
  "language_info": {
   "codemirror_mode": {
    "name": "ipython",
    "version": 3
   },
   "file_extension": ".py",
   "mimetype": "text/x-python",
   "name": "python",
   "nbconvert_exporter": "python",
   "pygments_lexer": "ipython3",
   "version": "3.11.7"
  }
 },
 "nbformat": 4,
 "nbformat_minor": 5
}
