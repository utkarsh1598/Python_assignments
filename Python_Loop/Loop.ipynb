{
 "cells": [
  {
   "cell_type": "markdown",
   "id": "ff214af9-2a7e-4ada-9a07-496e366c1df5",
   "metadata": {},
   "source": [
    "1. Number Using a while loop"
   ]
  },
  {
   "cell_type": "code",
   "execution_count": 1,
   "id": "e505deaa-6f17-4c45-8d4f-75484466f8d1",
   "metadata": {},
   "outputs": [],
   "source": [
    "#let us suppose variable\n",
    "a=1"
   ]
  },
  {
   "cell_type": "code",
   "execution_count": 2,
   "id": "67394b43-1b58-4180-87b5-5d4387080cc4",
   "metadata": {},
   "outputs": [
    {
     "name": "stdout",
     "output_type": "stream",
     "text": [
      "1\n",
      "2\n",
      "3\n",
      "4\n",
      "5\n"
     ]
    }
   ],
   "source": [
    "a=1\n",
    "while a<=5:\n",
    "    print(a)\n",
    "    a=a+1"
   ]
  },
  {
   "cell_type": "code",
   "execution_count": 3,
   "id": "3712a809-3042-45ca-920a-a3f6159bf69e",
   "metadata": {},
   "outputs": [],
   "source": [
    "#Hence we can print number using a while loop."
   ]
  },
  {
   "cell_type": "markdown",
   "id": "4062510c-3ef8-4b74-b5b0-6cf91c770f23",
   "metadata": {},
   "source": [
    "2. Sum of numbers from 1 to 10 using a while loop"
   ]
  },
  {
   "cell_type": "code",
   "execution_count": 1,
   "id": "d67dd700-8a29-445d-a1e3-099da3cec909",
   "metadata": {},
   "outputs": [
    {
     "name": "stdout",
     "output_type": "stream",
     "text": [
      "The sum of numbers from 1 to 10 is: 55\n"
     ]
    }
   ],
   "source": [
    "total = 0\n",
    "current_number = 1\n",
    "\n",
    "while current_number <= 10:\n",
    "    total += current_number\n",
    "    current_number += 1\n",
    "\n",
    "print(\"The sum of numbers from 1 to 10 is:\", total)\n"
   ]
  },
  {
   "cell_type": "code",
   "execution_count": 2,
   "id": "42ac9aac-49b6-42d2-9089-bd4a15e13b4f",
   "metadata": {},
   "outputs": [],
   "source": [
    "#Hence we can print sum of numbers using a while loop."
   ]
  },
  {
   "cell_type": "markdown",
   "id": "91fccfe0-b563-42a8-9e73-7d72b42f95bf",
   "metadata": {},
   "source": [
    "3. Factorial of a number using a for loop"
   ]
  },
  {
   "cell_type": "code",
   "execution_count": 3,
   "id": "9b54c985-c3ce-47b1-9c06-13bc4fb6208b",
   "metadata": {},
   "outputs": [
    {
     "name": "stdout",
     "output_type": "stream",
     "text": [
      "The factorial of 5 is: 120\n"
     ]
    }
   ],
   "source": [
    "def factorial(n):\n",
    "    result = 1\n",
    "    for i in range(1, n + 1):\n",
    "        result *= i\n",
    "    return result\n",
    "\n",
    "# Example usage\n",
    "number = 5\n",
    "print(f\"The factorial of {number} is:\", factorial(number))\n"
   ]
  },
  {
   "cell_type": "code",
   "execution_count": 4,
   "id": "3e57b5a1-7753-4acb-982f-42b6a2cdbcbe",
   "metadata": {},
   "outputs": [],
   "source": [
    "#Hence we can find the factorial of a number using a while loop."
   ]
  },
  {
   "cell_type": "markdown",
   "id": "5907c688-0103-48e0-9f64-afc3dcb430b1",
   "metadata": {},
   "source": [
    "4. Counting the number of vowels in a string using a for loop"
   ]
  },
  {
   "cell_type": "code",
   "execution_count": 6,
   "id": "1aa124f7-83bf-4ec3-98e5-cb0837b98580",
   "metadata": {},
   "outputs": [
    {
     "name": "stdout",
     "output_type": "stream",
     "text": [
      "Number of vowels in the string: 5\n"
     ]
    }
   ],
   "source": [
    "def count_vowels(input_string):\n",
    "    vowels = \"aeiouAEIOU\"\n",
    "    count = 0\n",
    "    for char in input_string:\n",
    "        if char in vowels:\n",
    "            count += 1\n",
    "    return count\n",
    "\n",
    "# Example usage\n",
    "input_string = \"Data analytics\"\n",
    "print(\"Number of vowels in the string:\", count_vowels(input_string))\n"
   ]
  },
  {
   "cell_type": "code",
   "execution_count": 7,
   "id": "856cbb9b-8e2d-4527-8424-c020bb1e7902",
   "metadata": {},
   "outputs": [],
   "source": [
    "#Hence we can count numbers of vowel in a string using for loop."
   ]
  },
  {
   "cell_type": "markdown",
   "id": "74f32c58-f43c-47cd-a971-b894e0fb0555",
   "metadata": {},
   "source": [
    "5. Pattern using nested loops"
   ]
  },
  {
   "cell_type": "code",
   "execution_count": 8,
   "id": "bb5fe99b-8d29-4039-94bc-1c0b85872765",
   "metadata": {},
   "outputs": [
    {
     "name": "stdout",
     "output_type": "stream",
     "text": [
      "(1, 1)\n",
      "(1, 2)\n",
      "(1, 3)\n",
      "(2, 1)\n",
      "(2, 2)\n",
      "(2, 3)\n",
      "(3, 1)\n",
      "(3, 2)\n",
      "(3, 3)\n"
     ]
    }
   ],
   "source": [
    "for i in range(1, 4):\n",
    "    for j in range(1, 4):\n",
    "        print(f\"({i}, {j})\")\n"
   ]
  },
  {
   "cell_type": "code",
   "execution_count": 9,
   "id": "c00d45e5-1cb0-40ec-94f7-1f5bf53ffba9",
   "metadata": {},
   "outputs": [],
   "source": [
    "#Hence we can print a pattern using nested loops."
   ]
  },
  {
   "cell_type": "markdown",
   "id": "8a49b46f-4e00-4397-8137-122fe15d57d4",
   "metadata": {},
   "source": [
    "6. Generating a multiplication table using nested loops."
   ]
  },
  {
   "cell_type": "code",
   "execution_count": 1,
   "id": "0bc62374-8c5c-46ee-8cbd-bbf63badf2fa",
   "metadata": {},
   "outputs": [
    {
     "name": "stdout",
     "output_type": "stream",
     "text": [
      "1 x 1 = 1\n",
      "1 x 2 = 2\n",
      "1 x 3 = 3\n",
      "1 x 4 = 4\n",
      "1 x 5 = 5\n",
      "1 x 6 = 6\n",
      "1 x 7 = 7\n",
      "1 x 8 = 8\n",
      "1 x 9 = 9\n",
      "1 x 10 = 10\n",
      "\n",
      "2 x 1 = 2\n",
      "2 x 2 = 4\n",
      "2 x 3 = 6\n",
      "2 x 4 = 8\n",
      "2 x 5 = 10\n",
      "2 x 6 = 12\n",
      "2 x 7 = 14\n",
      "2 x 8 = 16\n",
      "2 x 9 = 18\n",
      "2 x 10 = 20\n",
      "\n",
      "3 x 1 = 3\n",
      "3 x 2 = 6\n",
      "3 x 3 = 9\n",
      "3 x 4 = 12\n",
      "3 x 5 = 15\n",
      "3 x 6 = 18\n",
      "3 x 7 = 21\n",
      "3 x 8 = 24\n",
      "3 x 9 = 27\n",
      "3 x 10 = 30\n",
      "\n",
      "4 x 1 = 4\n",
      "4 x 2 = 8\n",
      "4 x 3 = 12\n",
      "4 x 4 = 16\n",
      "4 x 5 = 20\n",
      "4 x 6 = 24\n",
      "4 x 7 = 28\n",
      "4 x 8 = 32\n",
      "4 x 9 = 36\n",
      "4 x 10 = 40\n",
      "\n",
      "5 x 1 = 5\n",
      "5 x 2 = 10\n",
      "5 x 3 = 15\n",
      "5 x 4 = 20\n",
      "5 x 5 = 25\n",
      "5 x 6 = 30\n",
      "5 x 7 = 35\n",
      "5 x 8 = 40\n",
      "5 x 9 = 45\n",
      "5 x 10 = 50\n",
      "\n",
      "6 x 1 = 6\n",
      "6 x 2 = 12\n",
      "6 x 3 = 18\n",
      "6 x 4 = 24\n",
      "6 x 5 = 30\n",
      "6 x 6 = 36\n",
      "6 x 7 = 42\n",
      "6 x 8 = 48\n",
      "6 x 9 = 54\n",
      "6 x 10 = 60\n",
      "\n",
      "7 x 1 = 7\n",
      "7 x 2 = 14\n",
      "7 x 3 = 21\n",
      "7 x 4 = 28\n",
      "7 x 5 = 35\n",
      "7 x 6 = 42\n",
      "7 x 7 = 49\n",
      "7 x 8 = 56\n",
      "7 x 9 = 63\n",
      "7 x 10 = 70\n",
      "\n",
      "8 x 1 = 8\n",
      "8 x 2 = 16\n",
      "8 x 3 = 24\n",
      "8 x 4 = 32\n",
      "8 x 5 = 40\n",
      "8 x 6 = 48\n",
      "8 x 7 = 56\n",
      "8 x 8 = 64\n",
      "8 x 9 = 72\n",
      "8 x 10 = 80\n",
      "\n",
      "9 x 1 = 9\n",
      "9 x 2 = 18\n",
      "9 x 3 = 27\n",
      "9 x 4 = 36\n",
      "9 x 5 = 45\n",
      "9 x 6 = 54\n",
      "9 x 7 = 63\n",
      "9 x 8 = 72\n",
      "9 x 9 = 81\n",
      "9 x 10 = 90\n",
      "\n",
      "10 x 1 = 10\n",
      "10 x 2 = 20\n",
      "10 x 3 = 30\n",
      "10 x 4 = 40\n",
      "10 x 5 = 50\n",
      "10 x 6 = 60\n",
      "10 x 7 = 70\n",
      "10 x 8 = 80\n",
      "10 x 9 = 90\n",
      "10 x 10 = 100\n",
      "\n"
     ]
    }
   ],
   "source": [
    "# Define the range for the multiplication table\n",
    "num_range = range(1, 11)\n",
    "\n",
    "# Nested loop to generate the multiplication table\n",
    "for i in num_range:\n",
    "    for j in num_range:\n",
    "        # Calculate the product of i and j\n",
    "        product = i * j\n",
    "        # Print the product with proper formatting\n",
    "        print(f\"{i} x {j} = {product}\")\n",
    "    # Print an empty line after each row\n",
    "    print()"
   ]
  },
  {
   "cell_type": "code",
   "execution_count": 2,
   "id": "4f224eb9-fc20-4479-8579-ef269326749e",
   "metadata": {},
   "outputs": [],
   "source": [
    "#Hence we can print multiplication table using nested loop."
   ]
  },
  {
   "cell_type": "code",
   "execution_count": null,
   "id": "704a8a4c-2afb-449d-8f14-f0b9755302a4",
   "metadata": {},
   "outputs": [],
   "source": []
  }
 ],
 "metadata": {
  "kernelspec": {
   "display_name": "Python 3 (ipykernel)",
   "language": "python",
   "name": "python3"
  },
  "language_info": {
   "codemirror_mode": {
    "name": "ipython",
    "version": 3
   },
   "file_extension": ".py",
   "mimetype": "text/x-python",
   "name": "python",
   "nbconvert_exporter": "python",
   "pygments_lexer": "ipython3",
   "version": "3.11.7"
  }
 },
 "nbformat": 4,
 "nbformat_minor": 5
}
