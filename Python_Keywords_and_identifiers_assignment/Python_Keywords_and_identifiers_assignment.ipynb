{
 "cells": [
  {
   "cell_type": "markdown",
   "id": "5f05d0c0-558c-4b3f-a976-54b82aeb2cc3",
   "metadata": {},
   "source": [
    "1. Significance of Python keywords."
   ]
  },
  {
   "cell_type": "code",
   "execution_count": 1,
   "id": "76482b9d-d58b-4650-a252-b785c09e8dd3",
   "metadata": {},
   "outputs": [],
   "source": [
    "#Python keywords are special reserved words that have specific meanings and purposes and can't be used for anything but those specific purposes. \n",
    "#For example we have following keywords:\n",
    "#print- Use to print a value of any variable whether it's integer, floating number, string or boolean.\n",
    "#type- Use to find the type of value of variable.\n",
    "#Some of other keywords are if, else and elif."
   ]
  },
  {
   "cell_type": "markdown",
   "id": "4b501c4b-58ed-4c61-9e1c-9c7c47b1eadd",
   "metadata": {},
   "source": [
    "2.Rules to define identifiers "
   ]
  },
  {
   "cell_type": "code",
   "execution_count": 8,
   "id": "f52136c2-4442-41a2-9fb5-284c2c1d518d",
   "metadata": {},
   "outputs": [
    {
     "ename": "SyntaxError",
     "evalue": "cannot assign to False (2310567118.py, line 5)",
     "output_type": "error",
     "traceback": [
      "\u001b[1;36m  Cell \u001b[1;32mIn[8], line 5\u001b[1;36m\u001b[0m\n\u001b[1;33m    False=\"Data Science\"\u001b[0m\n\u001b[1;37m    ^\u001b[0m\n\u001b[1;31mSyntaxError\u001b[0m\u001b[1;31m:\u001b[0m cannot assign to False\n"
     ]
    }
   ],
   "source": [
    "#Rule1:Identifirers cannot be a keyword.\n",
    "#for example let us suppose a variable with following value\n",
    "Course=\"Data Analytics\"\n",
    "#let us suppose another variable with following value\n",
    "False=\"Data Science\""
   ]
  },
  {
   "cell_type": "code",
   "execution_count": 9,
   "id": "654324fc-da52-4a33-bb5a-800840b69ae5",
   "metadata": {},
   "outputs": [],
   "source": [
    "#In above example we can see that Course is correct identifier but since False is already a keyword that is why it can not be an identifiers."
   ]
  },
  {
   "cell_type": "code",
   "execution_count": 10,
   "id": "94d2a20f-13fd-4b9b-9ac1-c400cbeae9f3",
   "metadata": {},
   "outputs": [],
   "source": [
    "#Rule2:Identifiers are case-sensitive.\n",
    "#for example let us suppose a variable with following value\n",
    "v=5"
   ]
  },
  {
   "cell_type": "code",
   "execution_count": 11,
   "id": "6a48a28a-8163-4cbd-9256-9b56f900acd7",
   "metadata": {},
   "outputs": [
    {
     "ename": "NameError",
     "evalue": "name 'V' is not defined",
     "output_type": "error",
     "traceback": [
      "\u001b[1;31m---------------------------------------------------------------------------\u001b[0m",
      "\u001b[1;31mNameError\u001b[0m                                 Traceback (most recent call last)",
      "Cell \u001b[1;32mIn[11], line 2\u001b[0m\n\u001b[0;32m      1\u001b[0m \u001b[38;5;66;03m#let us print value of variable\u001b[39;00m\n\u001b[1;32m----> 2\u001b[0m \u001b[38;5;28mprint\u001b[39m(V)\n",
      "\u001b[1;31mNameError\u001b[0m: name 'V' is not defined"
     ]
    }
   ],
   "source": [
    "#let us print value of variable\n",
    "print(V)"
   ]
  },
  {
   "cell_type": "code",
   "execution_count": 12,
   "id": "f3f039ca-a1ce-4db5-8a38-21566c16a301",
   "metadata": {},
   "outputs": [],
   "source": [
    "#In above action we perform print action on captial V where as our identifier is small v."
   ]
  },
  {
   "cell_type": "code",
   "execution_count": 13,
   "id": "46ad9307-1462-4973-8dc8-5474f62747b7",
   "metadata": {},
   "outputs": [
    {
     "ename": "SyntaxError",
     "evalue": "invalid decimal literal (529343701.py, line 3)",
     "output_type": "error",
     "traceback": [
      "\u001b[1;36m  Cell \u001b[1;32mIn[13], line 3\u001b[1;36m\u001b[0m\n\u001b[1;33m    7y=\"pwskills\"\u001b[0m\n\u001b[1;37m    ^\u001b[0m\n\u001b[1;31mSyntaxError\u001b[0m\u001b[1;31m:\u001b[0m invalid decimal literal\n"
     ]
    }
   ],
   "source": [
    "#Rule3:The first letter of an identifier cannot be a digit.\n",
    "#for example let us suppose a variable with following value\n",
    "7y=\"pwskills\""
   ]
  },
  {
   "cell_type": "code",
   "execution_count": 14,
   "id": "5321b2e3-3485-40c2-b345-af03d350b63a",
   "metadata": {},
   "outputs": [],
   "source": [
    "#in above we can see that identifier can not be start with any digit."
   ]
  },
  {
   "cell_type": "code",
   "execution_count": 15,
   "id": "ec719032-39af-434b-a0e2-ebf3ba16ff9f",
   "metadata": {},
   "outputs": [
    {
     "ename": "SyntaxError",
     "evalue": "invalid syntax (2712512782.py, line 3)",
     "output_type": "error",
     "traceback": [
      "\u001b[1;36m  Cell \u001b[1;32mIn[15], line 3\u001b[1;36m\u001b[0m\n\u001b[1;33m    i d=4\u001b[0m\n\u001b[1;37m      ^\u001b[0m\n\u001b[1;31mSyntaxError\u001b[0m\u001b[1;31m:\u001b[0m invalid syntax\n"
     ]
    }
   ],
   "source": [
    "#Rule4:Whitespaces are not allowed.\n",
    "#for example let us suppose a variable with following value\n",
    "i d=4"
   ]
  },
  {
   "cell_type": "code",
   "execution_count": 16,
   "id": "fe391b03-7a32-4a0b-bade-c0282ead50e9",
   "metadata": {},
   "outputs": [],
   "source": [
    "#In above example we can see that there should be no space in identifier."
   ]
  },
  {
   "cell_type": "code",
   "execution_count": 18,
   "id": "b74f6c41-337d-4b48-b3da-b652e81c13c6",
   "metadata": {},
   "outputs": [
    {
     "ename": "SyntaxError",
     "evalue": "invalid syntax (2754177789.py, line 3)",
     "output_type": "error",
     "traceback": [
      "\u001b[1;36m  Cell \u001b[1;32mIn[18], line 3\u001b[1;36m\u001b[0m\n\u001b[1;33m    @=\"bravo\"\u001b[0m\n\u001b[1;37m    ^\u001b[0m\n\u001b[1;31mSyntaxError\u001b[0m\u001b[1;31m:\u001b[0m invalid syntax\n"
     ]
    }
   ],
   "source": [
    "#Rule5:We cannot use special symbols like !, @, #, $, and so on.\n",
    "#for example let us suppose a variable with following value\n",
    "@=\"bravo\""
   ]
  },
  {
   "cell_type": "code",
   "execution_count": 19,
   "id": "800e7b2e-f583-4b18-af42-52d07760a678",
   "metadata": {},
   "outputs": [
    {
     "ename": "SyntaxError",
     "evalue": "invalid syntax (154728208.py, line 2)",
     "output_type": "error",
     "traceback": [
      "\u001b[1;36m  Cell \u001b[1;32mIn[19], line 2\u001b[1;36m\u001b[0m\n\u001b[1;33m    $income=250\u001b[0m\n\u001b[1;37m    ^\u001b[0m\n\u001b[1;31mSyntaxError\u001b[0m\u001b[1;31m:\u001b[0m invalid syntax\n"
     ]
    }
   ],
   "source": [
    "#or another variable\n",
    "$income=250"
   ]
  },
  {
   "cell_type": "code",
   "execution_count": 20,
   "id": "5a8c8027-7952-4232-a033-2bc0667ff291",
   "metadata": {},
   "outputs": [],
   "source": [
    "#in above examples we can see that identifier cannot contain any special character."
   ]
  },
  {
   "cell_type": "markdown",
   "id": "c820e1ed-d321-4628-8b4b-7f4b60df4927",
   "metadata": {},
   "source": [
    "3.Comments in Python "
   ]
  },
  {
   "cell_type": "code",
   "execution_count": 21,
   "id": "ad589a12-b6f5-4eb1-9d1b-04c9350b4b91",
   "metadata": {},
   "outputs": [],
   "source": [
    "#Comments are sentences that contains details and instruction regarding any program or variable in python.\n",
    "#With the help of python we can create a programm that a person/system who/which reads or access it can understand easily.\n",
    "#For example I have used comments in my every assignment that I have submitted and this example is also written as comments."
   ]
  },
  {
   "cell_type": "markdown",
   "id": "0d40ede8-0bd4-4ad2-a86c-2f515bb6a3bc",
   "metadata": {},
   "source": [
    "4.Importance of indentation"
   ]
  },
  {
   "cell_type": "code",
   "execution_count": 23,
   "id": "39453ab5-adba-459b-b7a9-dd7690b65203",
   "metadata": {},
   "outputs": [],
   "source": [
    "#While writing an if, else or elif statement an indentation is required which is for structured statement so that system can understand value of variable."
   ]
  },
  {
   "cell_type": "markdown",
   "id": "6873cd44-7c25-4548-bcaf-5037f7aef6cb",
   "metadata": {},
   "source": [
    "5.Effects of incorrect indentation in python"
   ]
  },
  {
   "cell_type": "code",
   "execution_count": 24,
   "id": "7fe3956a-f8a1-4877-b29d-fa785a3956e4",
   "metadata": {},
   "outputs": [],
   "source": [
    "#While writing any if, else or elif statement if indentation is incorrect then Python will give error and then programing is not correct."
   ]
  },
  {
   "cell_type": "markdown",
   "id": "01b8ba7c-6b2c-4daa-9746-54e30119636b",
   "metadata": {},
   "source": [
    "6.Difference between expression and statement"
   ]
  },
  {
   "cell_type": "code",
   "execution_count": 29,
   "id": "18369b03-1542-440d-8366-bc4d3846bf0e",
   "metadata": {},
   "outputs": [],
   "source": [
    "#first let us suppose following variable\n",
    "u=6\n",
    "v=9"
   ]
  },
  {
   "cell_type": "code",
   "execution_count": 30,
   "id": "6cbd0a1c-17a4-4162-adec-21b1b5af53a6",
   "metadata": {},
   "outputs": [],
   "source": [
    "#An expression is a combination of values, operators, and function calls that produces a new value.\n",
    "#now let us perform addition on above variable\n",
    "x=u+v"
   ]
  },
  {
   "cell_type": "code",
   "execution_count": 31,
   "id": "5259873d-a669-47a1-9d93-9a7a93c9fbf8",
   "metadata": {},
   "outputs": [
    {
     "name": "stdout",
     "output_type": "stream",
     "text": [
      "15\n"
     ]
    }
   ],
   "source": [
    "print(x)"
   ]
  },
  {
   "cell_type": "code",
   "execution_count": 32,
   "id": "e9afa217-bd36-476a-9128-bcc0f47b3a57",
   "metadata": {},
   "outputs": [],
   "source": [
    "#In above operation u+v is an expression that evaluates to 9.\n",
    "#Expressions can be used as part of statements, or they can be used on their own."
   ]
  },
  {
   "cell_type": "code",
   "execution_count": 33,
   "id": "49478350-2206-4484-b517-524443dcd8d2",
   "metadata": {},
   "outputs": [],
   "source": [
    "#A statement is a unit of code that performs some action, such as assigning a value to a variable or calling a function. Statements can be made up of one or more expressions, and they typically have a side effect, such as changing the state of the program or producing output.\n",
    "#In all above example we can see that we have assigne values to various variables. "
   ]
  },
  {
   "cell_type": "code",
   "execution_count": null,
   "id": "dd81fd0a-348e-4421-82f9-d46484592dc2",
   "metadata": {},
   "outputs": [],
   "source": []
  }
 ],
 "metadata": {
  "kernelspec": {
   "display_name": "Python 3 (ipykernel)",
   "language": "python",
   "name": "python3"
  },
  "language_info": {
   "codemirror_mode": {
    "name": "ipython",
    "version": 3
   },
   "file_extension": ".py",
   "mimetype": "text/x-python",
   "name": "python",
   "nbconvert_exporter": "python",
   "pygments_lexer": "ipython3",
   "version": "3.11.7"
  }
 },
 "nbformat": 4,
 "nbformat_minor": 5
}
