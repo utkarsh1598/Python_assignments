{
 "cells": [
  {
   "cell_type": "markdown",
   "id": "76e96b5e-1c44-4b29-af3a-02b5e82377bf",
   "metadata": {},
   "source": [
    "1. Numbers from 1 to 10 using continue"
   ]
  },
  {
   "cell_type": "code",
   "execution_count": 2,
   "id": "5ae7a705-a754-41cd-9d2c-dcfe504692e1",
   "metadata": {},
   "outputs": [
    {
     "name": "stdout",
     "output_type": "stream",
     "text": [
      "1\n",
      "2\n",
      "3\n",
      "4\n"
     ]
    }
   ],
   "source": [
    "for i in range(1, 11):\n",
    "    if i == 5:\n",
    "        break\n",
    "    print(i)"
   ]
  },
  {
   "cell_type": "code",
   "execution_count": 3,
   "id": "c210187d-0e16-42a8-97e6-6f1ec1ba2a2a",
   "metadata": {},
   "outputs": [],
   "source": [
    "#Hence we can write a program to print numbers from 1 to 10 using break."
   ]
  },
  {
   "cell_type": "markdown",
   "id": "6a86c712-d8ba-47d0-b549-e9b6b25bef35",
   "metadata": {},
   "source": [
    "2. Printing a list using break"
   ]
  },
  {
   "cell_type": "code",
   "execution_count": 4,
   "id": "7e53e276-e131-49bd-9654-e5df30cd85fb",
   "metadata": {},
   "outputs": [
    {
     "name": "stdout",
     "output_type": "stream",
     "text": [
      "10\n",
      "20\n",
      "30\n",
      "40\n"
     ]
    }
   ],
   "source": [
    "# Sample list\n",
    "my_list = [10, 20, 30, 40, 50, 60, 70]\n",
    "\n",
    "# Element to stop at\n",
    "stop_element = 40\n",
    "\n",
    "# Iterate through the list\n",
    "for element in my_list:\n",
    "    print(element)\n",
    "    if element == stop_element:\n",
    "        break"
   ]
  },
  {
   "cell_type": "code",
   "execution_count": 5,
   "id": "b49fd2c4-319e-43c2-af7e-944ee8c73fef",
   "metadata": {},
   "outputs": [],
   "source": [
    "#Hence we can iterate a list using break."
   ]
  },
  {
   "cell_type": "markdown",
   "id": "97bfd9ce-0914-44b4-84cb-1125c47eae05",
   "metadata": {},
   "source": [
    "3. Printing numbers from 1 to 10 while skipping even numbers"
   ]
  },
  {
   "cell_type": "code",
   "execution_count": 6,
   "id": "e0eb4df9-ad87-487f-ada3-ebdfecc54fb4",
   "metadata": {},
   "outputs": [
    {
     "name": "stdout",
     "output_type": "stream",
     "text": [
      "1\n",
      "3\n",
      "5\n",
      "7\n",
      "9\n"
     ]
    }
   ],
   "source": [
    "for i in range(1, 11):\n",
    "    if i % 2 == 0:\n",
    "        continue\n",
    "    print(i)"
   ]
  },
  {
   "cell_type": "code",
   "execution_count": 7,
   "id": "e36494ca-eea4-4461-a167-1b037de0b442",
   "metadata": {},
   "outputs": [],
   "source": [
    "#Hence we can print odd numbers from 1 to 10 using continue."
   ]
  },
  {
   "cell_type": "markdown",
   "id": "92d6a24b-c6e9-4933-8897-a613db1402a3",
   "metadata": {},
   "source": [
    "4. Printing numbers from 0 to 9 using range"
   ]
  },
  {
   "cell_type": "code",
   "execution_count": 8,
   "id": "8cced61f-ab39-462c-a01b-e6b7bb43baf4",
   "metadata": {},
   "outputs": [
    {
     "name": "stdout",
     "output_type": "stream",
     "text": [
      "0\n",
      "1\n",
      "2\n",
      "3\n",
      "4\n",
      "5\n",
      "6\n",
      "7\n",
      "8\n",
      "9\n"
     ]
    }
   ],
   "source": [
    "for i in range(10):\n",
    "    print(i)"
   ]
  },
  {
   "cell_type": "code",
   "execution_count": 9,
   "id": "31d8a753-2bb4-4bef-a2fc-c8f7fc940e15",
   "metadata": {},
   "outputs": [],
   "source": [
    "#Hence we can print number from 0 to 9 using range."
   ]
  },
  {
   "cell_type": "markdown",
   "id": "215e08b4-bec5-4633-b30a-2658a0af36f7",
   "metadata": {},
   "source": [
    "5. Tables from 1 to 5 "
   ]
  },
  {
   "cell_type": "code",
   "execution_count": 10,
   "id": "e9452ebc-b52e-4491-b2bb-fc5db709326b",
   "metadata": {},
   "outputs": [
    {
     "name": "stdout",
     "output_type": "stream",
     "text": [
      "Multiplication table for 1:\n",
      "1 x 1 = 1\n",
      "1 x 2 = 2\n",
      "1 x 3 = 3\n",
      "1 x 4 = 4\n",
      "1 x 5 = 5\n",
      "1 x 6 = 6\n",
      "1 x 7 = 7\n",
      "1 x 8 = 8\n",
      "1 x 9 = 9\n",
      "1 x 10 = 10\n",
      "\n",
      "Multiplication table for 2:\n",
      "2 x 1 = 2\n",
      "2 x 2 = 4\n",
      "2 x 3 = 6\n",
      "2 x 4 = 8\n",
      "2 x 5 = 10\n",
      "2 x 6 = 12\n",
      "2 x 7 = 14\n",
      "2 x 8 = 16\n",
      "2 x 9 = 18\n",
      "2 x 10 = 20\n",
      "\n",
      "Multiplication table for 3:\n",
      "3 x 1 = 3\n",
      "3 x 2 = 6\n",
      "3 x 3 = 9\n",
      "3 x 4 = 12\n",
      "3 x 5 = 15\n",
      "3 x 6 = 18\n",
      "3 x 7 = 21\n",
      "3 x 8 = 24\n",
      "3 x 9 = 27\n",
      "3 x 10 = 30\n",
      "\n",
      "Multiplication table for 4:\n",
      "4 x 1 = 4\n",
      "4 x 2 = 8\n",
      "4 x 3 = 12\n",
      "4 x 4 = 16\n",
      "4 x 5 = 20\n",
      "4 x 6 = 24\n",
      "4 x 7 = 28\n",
      "4 x 8 = 32\n",
      "4 x 9 = 36\n",
      "4 x 10 = 40\n",
      "\n",
      "Multiplication table for 5:\n",
      "5 x 1 = 5\n",
      "5 x 2 = 10\n",
      "5 x 3 = 15\n",
      "5 x 4 = 20\n",
      "5 x 5 = 25\n",
      "5 x 6 = 30\n",
      "5 x 7 = 35\n",
      "5 x 8 = 40\n",
      "5 x 9 = 45\n",
      "5 x 10 = 50\n",
      "\n"
     ]
    }
   ],
   "source": [
    "for i in range(1, 6):\n",
    "    print(f\"Multiplication table for {i}:\")\n",
    "    for j in range(1, 11):\n",
    "        print(f\"{i} x {j} = {i*j}\")\n",
    "    print()  # Empty line for separation"
   ]
  },
  {
   "cell_type": "code",
   "execution_count": 11,
   "id": "236ff3e8-2afa-40f4-a088-215d3872173a",
   "metadata": {},
   "outputs": [],
   "source": [
    "#hence we can print multiplication tables from 1 to 5."
   ]
  },
  {
   "cell_type": "markdown",
   "id": "9c7ac21e-9ca4-43c5-88b4-243025b51d50",
   "metadata": {},
   "source": [
    "6. Printing odd numbers using a while loop"
   ]
  },
  {
   "cell_type": "code",
   "execution_count": 12,
   "id": "6b298128-ed42-482a-98ff-4bd418828b2a",
   "metadata": {},
   "outputs": [
    {
     "name": "stdout",
     "output_type": "stream",
     "text": [
      "1\n",
      "3\n",
      "5\n",
      "7\n",
      "9\n"
     ]
    }
   ],
   "source": [
    "num = 1\n",
    "while num <= 10:\n",
    "    if num % 2 != 0:\n",
    "        print(num)\n",
    "    num += 1"
   ]
  },
  {
   "cell_type": "code",
   "execution_count": 13,
   "id": "b791ff09-06f8-4f20-a323-be0532ddfbaa",
   "metadata": {},
   "outputs": [],
   "source": [
    "#Hence we can print odd numbers using while loop."
   ]
  },
  {
   "cell_type": "code",
   "execution_count": null,
   "id": "32a76fbb-c082-4740-a2a1-15b052e89bfe",
   "metadata": {},
   "outputs": [],
   "source": []
  }
 ],
 "metadata": {
  "kernelspec": {
   "display_name": "Python 3 (ipykernel)",
   "language": "python",
   "name": "python3"
  },
  "language_info": {
   "codemirror_mode": {
    "name": "ipython",
    "version": 3
   },
   "file_extension": ".py",
   "mimetype": "text/x-python",
   "name": "python",
   "nbconvert_exporter": "python",
   "pygments_lexer": "ipython3",
   "version": "3.11.7"
  }
 },
 "nbformat": 4,
 "nbformat_minor": 5
}
