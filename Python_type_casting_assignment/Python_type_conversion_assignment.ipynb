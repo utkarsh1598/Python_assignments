{
 "cells": [
  {
   "cell_type": "code",
   "execution_count": 1,
   "id": "9221de2f-60f8-4667-998a-45f8d697fe4d",
   "metadata": {},
   "outputs": [],
   "source": [
    "#1.Converting an integer to a floating-point number\n",
    "#let suppose a variable with following value\n",
    "a=254\n",
    "#let suppose another variable with following value\n",
    "b=float(a)"
   ]
  },
  {
   "cell_type": "code",
   "execution_count": 2,
   "id": "215a02a5-0172-478d-86f9-2e56c4cd2f68",
   "metadata": {},
   "outputs": [
    {
     "name": "stdout",
     "output_type": "stream",
     "text": [
      "254.0\n"
     ]
    }
   ],
   "source": [
    "print(b)"
   ]
  },
  {
   "cell_type": "code",
   "execution_count": 3,
   "id": "aa1ff73c-eaee-493b-a1e2-5114fb43a24b",
   "metadata": {},
   "outputs": [],
   "source": [
    "#hence changed an integer to a floating-point number"
   ]
  },
  {
   "cell_type": "code",
   "execution_count": 4,
   "id": "bed9419b-f4f5-4ea5-b982-e9b1f3c91e63",
   "metadata": {},
   "outputs": [],
   "source": [
    "#2.Converting a float to an integer\n",
    "#let suppose a variable with a float value\n",
    "c=98.45\n",
    "#let suppose another variable with following value\n",
    "d=int(c)"
   ]
  },
  {
   "cell_type": "code",
   "execution_count": 5,
   "id": "da4a3dce-5dae-4905-8cbd-95f66cf15a3a",
   "metadata": {},
   "outputs": [
    {
     "name": "stdout",
     "output_type": "stream",
     "text": [
      "98\n"
     ]
    }
   ],
   "source": [
    "print(d)"
   ]
  },
  {
   "cell_type": "code",
   "execution_count": 6,
   "id": "165f5e4f-dd7f-4020-817f-aedbd1023f79",
   "metadata": {},
   "outputs": [],
   "source": [
    "#hence changed a float to an integer"
   ]
  },
  {
   "cell_type": "code",
   "execution_count": 7,
   "id": "89456212-d85e-4cc5-8f47-95369a8e2e77",
   "metadata": {},
   "outputs": [],
   "source": [
    "#3.Converting an integer to a string\n",
    "#let suppose a variable with an integer value\n",
    "f=8"
   ]
  },
  {
   "cell_type": "code",
   "execution_count": 8,
   "id": "f1fd66f6-2271-4288-9ed8-1c6901bcd854",
   "metadata": {},
   "outputs": [],
   "source": [
    "#let suppose another variable with following value\n",
    "g=str(f)"
   ]
  },
  {
   "cell_type": "code",
   "execution_count": 9,
   "id": "59c9a471-7e1a-408e-9341-b356faf75333",
   "metadata": {},
   "outputs": [
    {
     "name": "stdout",
     "output_type": "stream",
     "text": [
      "8\n"
     ]
    }
   ],
   "source": [
    "print(g)"
   ]
  },
  {
   "cell_type": "code",
   "execution_count": 10,
   "id": "5e044fc2-f57d-4b59-986f-c87e84528de1",
   "metadata": {},
   "outputs": [
    {
     "data": {
      "text/plain": [
       "str"
      ]
     },
     "execution_count": 10,
     "metadata": {},
     "output_type": "execute_result"
    }
   ],
   "source": [
    "type(g)"
   ]
  },
  {
   "cell_type": "code",
   "execution_count": 11,
   "id": "3c048a64-cec8-4972-be94-96f2110171ca",
   "metadata": {},
   "outputs": [],
   "source": [
    "#hence change an integer to string"
   ]
  },
  {
   "cell_type": "code",
   "execution_count": 12,
   "id": "e695778b-d0e5-4f53-9fa1-90a8d6ad7245",
   "metadata": {},
   "outputs": [],
   "source": [
    "#4.Converting a list to a tuple\n",
    "#let suppose a list \n",
    "l=[4,5,8,9, 'ashu', 44.23, (32+74j), True, [8,9,6,7]]"
   ]
  },
  {
   "cell_type": "code",
   "execution_count": 13,
   "id": "0a6dc872-b41b-4179-936b-b119ec200638",
   "metadata": {},
   "outputs": [
    {
     "data": {
      "text/plain": [
       "list"
      ]
     },
     "execution_count": 13,
     "metadata": {},
     "output_type": "execute_result"
    }
   ],
   "source": [
    "type(l)"
   ]
  },
  {
   "cell_type": "code",
   "execution_count": 14,
   "id": "b589876b-9e22-4666-ae2d-7adeba41d129",
   "metadata": {},
   "outputs": [],
   "source": [
    "#let suppose a variable with following value\n",
    "x=tuple(l)"
   ]
  },
  {
   "cell_type": "code",
   "execution_count": 15,
   "id": "1ca3720a-b438-4ab0-b4bc-63893af6f4b8",
   "metadata": {},
   "outputs": [
    {
     "name": "stdout",
     "output_type": "stream",
     "text": [
      "(4, 5, 8, 9, 'ashu', 44.23, (32+74j), True, [8, 9, 6, 7])\n"
     ]
    }
   ],
   "source": [
    "print(x)"
   ]
  },
  {
   "cell_type": "code",
   "execution_count": 16,
   "id": "e6f49f3f-5d40-4d86-a8dd-e35e0082ca98",
   "metadata": {},
   "outputs": [
    {
     "data": {
      "text/plain": [
       "tuple"
      ]
     },
     "execution_count": 16,
     "metadata": {},
     "output_type": "execute_result"
    }
   ],
   "source": [
    "type(x)"
   ]
  },
  {
   "cell_type": "code",
   "execution_count": 17,
   "id": "73877f94-6562-4240-94f7-e6c1377fda99",
   "metadata": {},
   "outputs": [],
   "source": [
    "#hence we can convert list into a tuple"
   ]
  },
  {
   "cell_type": "code",
   "execution_count": 18,
   "id": "f5972979-baea-4ef9-8abb-eb46a6435ff1",
   "metadata": {},
   "outputs": [],
   "source": [
    "#5.Converting a tuple to a list\n",
    "#let suppose a tuple \n",
    "t=(4,6,9,3, 25.69, (17+12j), False, [2,5,6,9])"
   ]
  },
  {
   "cell_type": "code",
   "execution_count": 19,
   "id": "3f0573f3-80ce-410d-bb57-619dd3793fd5",
   "metadata": {},
   "outputs": [
    {
     "data": {
      "text/plain": [
       "tuple"
      ]
     },
     "execution_count": 19,
     "metadata": {},
     "output_type": "execute_result"
    }
   ],
   "source": [
    "type(t)"
   ]
  },
  {
   "cell_type": "code",
   "execution_count": 20,
   "id": "2d917823-14ca-4c24-90d6-cf847bdf803d",
   "metadata": {},
   "outputs": [],
   "source": [
    "#now let suppose a variable with following value\n",
    "s=list(t)"
   ]
  },
  {
   "cell_type": "code",
   "execution_count": 21,
   "id": "a02adbd7-26ab-4c4b-ac3e-df57a3044a9f",
   "metadata": {},
   "outputs": [
    {
     "name": "stdout",
     "output_type": "stream",
     "text": [
      "[4, 6, 9, 3, 25.69, (17+12j), False, [2, 5, 6, 9]]\n"
     ]
    }
   ],
   "source": [
    "print(s)"
   ]
  },
  {
   "cell_type": "code",
   "execution_count": 22,
   "id": "3941a799-3bc0-47a2-8303-cc2d77819d8c",
   "metadata": {},
   "outputs": [
    {
     "data": {
      "text/plain": [
       "list"
      ]
     },
     "execution_count": 22,
     "metadata": {},
     "output_type": "execute_result"
    }
   ],
   "source": [
    "type(s)"
   ]
  },
  {
   "cell_type": "code",
   "execution_count": 23,
   "id": "a7c8871c-baa9-4469-adc3-4b6ce9b452d1",
   "metadata": {},
   "outputs": [],
   "source": [
    "#hence can convert a tuple into a list"
   ]
  },
  {
   "cell_type": "code",
   "execution_count": 24,
   "id": "cb88a0cf-42e0-4a7d-a8ab-31e41aac94bd",
   "metadata": {},
   "outputs": [],
   "source": [
    "#6.Convert a decimal number to binary\n",
    "#let suppose a variable with following decimal value\n",
    "u=56.78"
   ]
  },
  {
   "cell_type": "code",
   "execution_count": 25,
   "id": "485c5bd0-03dd-495d-b9df-407970edf2b6",
   "metadata": {},
   "outputs": [
    {
     "data": {
      "text/plain": [
       "float"
      ]
     },
     "execution_count": 25,
     "metadata": {},
     "output_type": "execute_result"
    }
   ],
   "source": [
    "type(u)"
   ]
  },
  {
   "cell_type": "code",
   "execution_count": 26,
   "id": "a1228815-e48f-4393-b8bc-a6adc486b5f5",
   "metadata": {},
   "outputs": [],
   "source": [
    "#now peroforming bitwise operation on value of variable u"
   ]
  },
  {
   "cell_type": "code",
   "execution_count": 27,
   "id": "bf14a698-6200-434c-a77b-b63f01e494df",
   "metadata": {},
   "outputs": [
    {
     "ename": "TypeError",
     "evalue": "'float' object cannot be interpreted as an integer",
     "output_type": "error",
     "traceback": [
      "\u001b[1;31m---------------------------------------------------------------------------\u001b[0m",
      "\u001b[1;31mTypeError\u001b[0m                                 Traceback (most recent call last)",
      "Cell \u001b[1;32mIn[27], line 1\u001b[0m\n\u001b[1;32m----> 1\u001b[0m \u001b[38;5;28mbin\u001b[39m(\u001b[38;5;241m56.78\u001b[39m)\n",
      "\u001b[1;31mTypeError\u001b[0m: 'float' object cannot be interpreted as an integer"
     ]
    }
   ],
   "source": [
    "bin(56.78)"
   ]
  },
  {
   "cell_type": "code",
   "execution_count": 28,
   "id": "f9a2c18b-2860-4071-b2df-abc7f2e84e87",
   "metadata": {},
   "outputs": [],
   "source": [
    "#hence found that float integer cannot be convert into an integer"
   ]
  },
  {
   "cell_type": "code",
   "execution_count": 29,
   "id": "9abe5795-9e9a-4314-b00c-8c4093d4863a",
   "metadata": {},
   "outputs": [],
   "source": [
    "#7.converting a non-zero number to boolean\n",
    "#let us suppose a varible with following value\n",
    "n=48"
   ]
  },
  {
   "cell_type": "code",
   "execution_count": 30,
   "id": "1efa0dc1-5aa9-406f-b971-050470d5a3fb",
   "metadata": {},
   "outputs": [],
   "source": [
    "#now let us suppose another variable with following values\n",
    "p=bool(n)"
   ]
  },
  {
   "cell_type": "code",
   "execution_count": 31,
   "id": "48d9de4f-955a-496c-9fe2-3c787c4f054e",
   "metadata": {},
   "outputs": [
    {
     "name": "stdout",
     "output_type": "stream",
     "text": [
      "True\n"
     ]
    }
   ],
   "source": [
    "print(p)"
   ]
  },
  {
   "cell_type": "code",
   "execution_count": 32,
   "id": "4f061314-c6f2-4633-9102-71a016df5f30",
   "metadata": {},
   "outputs": [
    {
     "data": {
      "text/plain": [
       "bool"
      ]
     },
     "execution_count": 32,
     "metadata": {},
     "output_type": "execute_result"
    }
   ],
   "source": [
    "type(p)"
   ]
  },
  {
   "cell_type": "code",
   "execution_count": 33,
   "id": "2c7b7c4c-4007-49d0-a0a9-b4facf38dc9f",
   "metadata": {},
   "outputs": [],
   "source": [
    "#hence can convert a non-zero number to boolean"
   ]
  },
  {
   "cell_type": "code",
   "execution_count": null,
   "id": "acd1e530-749a-46eb-935b-a4eaa4962183",
   "metadata": {},
   "outputs": [],
   "source": []
  }
 ],
 "metadata": {
  "kernelspec": {
   "display_name": "Python 3 (ipykernel)",
   "language": "python",
   "name": "python3"
  },
  "language_info": {
   "codemirror_mode": {
    "name": "ipython",
    "version": 3
   },
   "file_extension": ".py",
   "mimetype": "text/x-python",
   "name": "python",
   "nbconvert_exporter": "python",
   "pygments_lexer": "ipython3",
   "version": "3.11.7"
  }
 },
 "nbformat": 4,
 "nbformat_minor": 5
}
